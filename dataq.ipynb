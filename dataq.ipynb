{
 "cells": [
  {
   "cell_type": "markdown",
   "id": "97dcdbc8",
   "metadata": {},
   "source": [
    "# 빅데이터분석기사 코드 정리"
   ]
  },
  {
   "cell_type": "markdown",
   "id": "d141d464",
   "metadata": {},
   "source": [
    "### 기본 라이브러리"
   ]
  },
  {
   "cell_type": "code",
   "execution_count": 1,
   "id": "a1d79b73",
   "metadata": {},
   "outputs": [],
   "source": [
    "import pandas as pd\n",
    "import numpy as np"
   ]
  },
  {
   "cell_type": "markdown",
   "id": "72501b36",
   "metadata": {},
   "source": [
    "### 외워야하는 라이브러리"
   ]
  },
  {
   "cell_type": "code",
   "execution_count": 2,
   "id": "641514ca",
   "metadata": {},
   "outputs": [],
   "source": [
    "# train_test 분할\n",
    "from sklearn.model_selection import train_test_split\n",
    "\n",
    "# scaler\n",
    "from sklearn.preprocessing import StandardScaler\n",
    "from sklearn.preprocessing import MinMaxScaler\n",
    "\n",
    "# remove na\n",
    "from sklearn.impute import SimpleImputer"
   ]
  },
  {
   "cell_type": "markdown",
   "id": "5682448b",
   "metadata": {},
   "source": [
    "### 1. 데이터 삽입"
   ]
  },
  {
   "cell_type": "code",
   "execution_count": 3,
   "id": "9444ac56",
   "metadata": {},
   "outputs": [],
   "source": [
    "x_test_path = '/Users/minki/prepare_dataq_test/dataset/X_test.csv'\n",
    "x_train_path = '/Users/minki/prepare_dataq_test/dataset/X_train.csv'\n",
    "y_train_path = '/Users/minki/prepare_dataq_test/dataset/y_train.csv'\n",
    "\n",
    "x_train = pd.read_csv(x_train_path, encoding='cp949')\n",
    "x_test = pd.read_csv(x_test_path, encoding='cp949')\n",
    "y_train = pd.read_csv(y_train_path, encoding='cp949')"
   ]
  },
  {
   "cell_type": "markdown",
   "id": "8c117291",
   "metadata": {},
   "source": [
    "### 2. 데이터 구조 파악"
   ]
  },
  {
   "cell_type": "markdown",
   "id": "4b35b415",
   "metadata": {},
   "source": [
    "#### 2-1. 데이터 개수 및 null 개수 파악"
   ]
  },
  {
   "cell_type": "code",
   "execution_count": 4,
   "id": "df68d9c4",
   "metadata": {},
   "outputs": [
    {
     "name": "stdout",
     "output_type": "stream",
     "text": [
      "<class 'pandas.core.frame.DataFrame'>\n",
      "RangeIndex: 3500 entries, 0 to 3499\n",
      "Data columns (total 10 columns):\n",
      " #   Column   Non-Null Count  Dtype  \n",
      "---  ------   --------------  -----  \n",
      " 0   cust_id  3500 non-null   int64  \n",
      " 1   총구매액     3500 non-null   int64  \n",
      " 2   최대구매액    3500 non-null   int64  \n",
      " 3   환불금액     1205 non-null   float64\n",
      " 4   주구매상품    3500 non-null   object \n",
      " 5   주구매지점    3500 non-null   object \n",
      " 6   내점일수     3500 non-null   int64  \n",
      " 7   내점당구매건수  3500 non-null   float64\n",
      " 8   주말방문비율   3500 non-null   float64\n",
      " 9   구매주기     3500 non-null   int64  \n",
      "dtypes: float64(3), int64(5), object(2)\n",
      "memory usage: 273.6+ KB\n"
     ]
    }
   ],
   "source": [
    "x_train.info()"
   ]
  },
  {
   "cell_type": "markdown",
   "id": "7c3248e3",
   "metadata": {},
   "source": [
    "#### 2-2 데이터 구조 변경"
   ]
  },
  {
   "cell_type": "code",
   "execution_count": 5,
   "id": "eb1de429",
   "metadata": {},
   "outputs": [],
   "source": [
    "# 위에서 cust_id는 int64로 표기되어 있지만 사실은 object형\n",
    "x_train['cust_id'] = x_train['cust_id'].astype('object')\n",
    "# .astype('object')\n",
    "# .astype('float')\n",
    "# .astype('str')\n",
    "# .astype('int')"
   ]
  },
  {
   "cell_type": "markdown",
   "id": "3aedc9fb",
   "metadata": {},
   "source": [
    "#### 2-3. 기초통계량 파악"
   ]
  },
  {
   "cell_type": "code",
   "execution_count": 6,
   "id": "d42829fc",
   "metadata": {},
   "outputs": [
    {
     "data": {
      "text/html": [
       "<div>\n",
       "<style scoped>\n",
       "    .dataframe tbody tr th:only-of-type {\n",
       "        vertical-align: middle;\n",
       "    }\n",
       "\n",
       "    .dataframe tbody tr th {\n",
       "        vertical-align: top;\n",
       "    }\n",
       "\n",
       "    .dataframe thead th {\n",
       "        text-align: right;\n",
       "    }\n",
       "</style>\n",
       "<table border=\"1\" class=\"dataframe\">\n",
       "  <thead>\n",
       "    <tr style=\"text-align: right;\">\n",
       "      <th></th>\n",
       "      <th>총구매액</th>\n",
       "      <th>최대구매액</th>\n",
       "      <th>환불금액</th>\n",
       "      <th>내점일수</th>\n",
       "      <th>내점당구매건수</th>\n",
       "      <th>주말방문비율</th>\n",
       "      <th>구매주기</th>\n",
       "    </tr>\n",
       "  </thead>\n",
       "  <tbody>\n",
       "    <tr>\n",
       "      <th>count</th>\n",
       "      <td>3.500000e+03</td>\n",
       "      <td>3.500000e+03</td>\n",
       "      <td>1.205000e+03</td>\n",
       "      <td>3500.000000</td>\n",
       "      <td>3500.000000</td>\n",
       "      <td>3500.000000</td>\n",
       "      <td>3500.000000</td>\n",
       "    </tr>\n",
       "    <tr>\n",
       "      <th>mean</th>\n",
       "      <td>9.191925e+07</td>\n",
       "      <td>1.966424e+07</td>\n",
       "      <td>2.407822e+07</td>\n",
       "      <td>19.253714</td>\n",
       "      <td>2.834963</td>\n",
       "      <td>0.307246</td>\n",
       "      <td>20.958286</td>\n",
       "    </tr>\n",
       "    <tr>\n",
       "      <th>std</th>\n",
       "      <td>1.635065e+08</td>\n",
       "      <td>3.199235e+07</td>\n",
       "      <td>4.746453e+07</td>\n",
       "      <td>27.174942</td>\n",
       "      <td>1.912368</td>\n",
       "      <td>0.289752</td>\n",
       "      <td>24.748682</td>\n",
       "    </tr>\n",
       "    <tr>\n",
       "      <th>min</th>\n",
       "      <td>-5.242152e+07</td>\n",
       "      <td>-2.992000e+06</td>\n",
       "      <td>5.600000e+03</td>\n",
       "      <td>1.000000</td>\n",
       "      <td>1.000000</td>\n",
       "      <td>0.000000</td>\n",
       "      <td>0.000000</td>\n",
       "    </tr>\n",
       "    <tr>\n",
       "      <th>25%</th>\n",
       "      <td>4.747050e+06</td>\n",
       "      <td>2.875000e+06</td>\n",
       "      <td>2.259000e+06</td>\n",
       "      <td>2.000000</td>\n",
       "      <td>1.666667</td>\n",
       "      <td>0.027291</td>\n",
       "      <td>4.000000</td>\n",
       "    </tr>\n",
       "    <tr>\n",
       "      <th>50%</th>\n",
       "      <td>2.822270e+07</td>\n",
       "      <td>9.837000e+06</td>\n",
       "      <td>7.392000e+06</td>\n",
       "      <td>8.000000</td>\n",
       "      <td>2.333333</td>\n",
       "      <td>0.256410</td>\n",
       "      <td>13.000000</td>\n",
       "    </tr>\n",
       "    <tr>\n",
       "      <th>75%</th>\n",
       "      <td>1.065079e+08</td>\n",
       "      <td>2.296250e+07</td>\n",
       "      <td>2.412000e+07</td>\n",
       "      <td>25.000000</td>\n",
       "      <td>3.375000</td>\n",
       "      <td>0.448980</td>\n",
       "      <td>28.000000</td>\n",
       "    </tr>\n",
       "    <tr>\n",
       "      <th>max</th>\n",
       "      <td>2.323180e+09</td>\n",
       "      <td>7.066290e+08</td>\n",
       "      <td>5.637530e+08</td>\n",
       "      <td>285.000000</td>\n",
       "      <td>22.083333</td>\n",
       "      <td>1.000000</td>\n",
       "      <td>166.000000</td>\n",
       "    </tr>\n",
       "  </tbody>\n",
       "</table>\n",
       "</div>"
      ],
      "text/plain": [
       "               총구매액         최대구매액          환불금액         내점일수      내점당구매건수  \\\n",
       "count  3.500000e+03  3.500000e+03  1.205000e+03  3500.000000  3500.000000   \n",
       "mean   9.191925e+07  1.966424e+07  2.407822e+07    19.253714     2.834963   \n",
       "std    1.635065e+08  3.199235e+07  4.746453e+07    27.174942     1.912368   \n",
       "min   -5.242152e+07 -2.992000e+06  5.600000e+03     1.000000     1.000000   \n",
       "25%    4.747050e+06  2.875000e+06  2.259000e+06     2.000000     1.666667   \n",
       "50%    2.822270e+07  9.837000e+06  7.392000e+06     8.000000     2.333333   \n",
       "75%    1.065079e+08  2.296250e+07  2.412000e+07    25.000000     3.375000   \n",
       "max    2.323180e+09  7.066290e+08  5.637530e+08   285.000000    22.083333   \n",
       "\n",
       "            주말방문비율         구매주기  \n",
       "count  3500.000000  3500.000000  \n",
       "mean      0.307246    20.958286  \n",
       "std       0.289752    24.748682  \n",
       "min       0.000000     0.000000  \n",
       "25%       0.027291     4.000000  \n",
       "50%       0.256410    13.000000  \n",
       "75%       0.448980    28.000000  \n",
       "max       1.000000   166.000000  "
      ]
     },
     "execution_count": 6,
     "metadata": {},
     "output_type": "execute_result"
    }
   ],
   "source": [
    "# describe에서는 object형은 출력되지 않는다.(숫자가 아니여서 계산 불가)\n",
    "x_train.describe()"
   ]
  },
  {
   "cell_type": "markdown",
   "id": "76cc39d3",
   "metadata": {},
   "source": [
    "#### 2-4. object형의 value 개수 세기(value는 자동적으로 내림차순)"
   ]
  },
  {
   "cell_type": "code",
   "execution_count": 7,
   "id": "d7522074",
   "metadata": {},
   "outputs": [
    {
     "data": {
      "text/plain": [
       "악기        2\n",
       "남성 트랜디    2\n",
       "소형가전      2\n",
       "통신/컴퓨터    3\n",
       "보석        3\n",
       "Name: 주구매상품, dtype: int64"
      ]
     },
     "execution_count": 7,
     "metadata": {},
     "output_type": "execute_result"
    }
   ],
   "source": [
    "x_train['주구매상품'].value_counts()\n",
    "x_train.loc[:, '주구매상품'].value_counts().head() # 내림차순\n",
    "x_train.loc[:, '주구매상품'].value_counts().sort_values(ascending = True).head() # 오름차순"
   ]
  },
  {
   "cell_type": "code",
   "execution_count": 8,
   "id": "d82c7c72",
   "metadata": {},
   "outputs": [
    {
     "data": {
      "text/plain": [
       "기타      0.170000\n",
       "가공식품    0.156000\n",
       "농산물     0.096857\n",
       "화장품     0.075429\n",
       "시티웨어    0.060857\n",
       "Name: 주구매상품, dtype: float64"
      ]
     },
     "execution_count": 8,
     "metadata": {},
     "output_type": "execute_result"
    }
   ],
   "source": [
    "# value_counts와 len을 이용하면 전체 비율을 구할 수 있다.\n",
    "res = x_train['주구매상품'].value_counts()/len(x_train)\n",
    "res.head()"
   ]
  },
  {
   "cell_type": "markdown",
   "id": "aa88b7fd",
   "metadata": {},
   "source": [
    "#### 2-5. 상관관계 조사. 마찬가지로 object형은 나오지 않는다."
   ]
  },
  {
   "cell_type": "code",
   "execution_count": 9,
   "id": "86921dea",
   "metadata": {},
   "outputs": [
    {
     "data": {
      "text/html": [
       "<div>\n",
       "<style scoped>\n",
       "    .dataframe tbody tr th:only-of-type {\n",
       "        vertical-align: middle;\n",
       "    }\n",
       "\n",
       "    .dataframe tbody tr th {\n",
       "        vertical-align: top;\n",
       "    }\n",
       "\n",
       "    .dataframe thead th {\n",
       "        text-align: right;\n",
       "    }\n",
       "</style>\n",
       "<table border=\"1\" class=\"dataframe\">\n",
       "  <thead>\n",
       "    <tr style=\"text-align: right;\">\n",
       "      <th></th>\n",
       "      <th>총구매액</th>\n",
       "      <th>최대구매액</th>\n",
       "      <th>환불금액</th>\n",
       "      <th>내점일수</th>\n",
       "      <th>내점당구매건수</th>\n",
       "      <th>주말방문비율</th>\n",
       "      <th>구매주기</th>\n",
       "    </tr>\n",
       "  </thead>\n",
       "  <tbody>\n",
       "    <tr>\n",
       "      <th>총구매액</th>\n",
       "      <td>1.000000</td>\n",
       "      <td>0.700080</td>\n",
       "      <td>0.419734</td>\n",
       "      <td>0.659084</td>\n",
       "      <td>0.090022</td>\n",
       "      <td>0.014396</td>\n",
       "      <td>-0.212944</td>\n",
       "    </tr>\n",
       "    <tr>\n",
       "      <th>최대구매액</th>\n",
       "      <td>0.700080</td>\n",
       "      <td>1.000000</td>\n",
       "      <td>0.410562</td>\n",
       "      <td>0.374147</td>\n",
       "      <td>0.018980</td>\n",
       "      <td>0.022277</td>\n",
       "      <td>-0.115837</td>\n",
       "    </tr>\n",
       "    <tr>\n",
       "      <th>환불금액</th>\n",
       "      <td>0.419734</td>\n",
       "      <td>0.410562</td>\n",
       "      <td>1.000000</td>\n",
       "      <td>0.270290</td>\n",
       "      <td>-0.063114</td>\n",
       "      <td>-0.062397</td>\n",
       "      <td>-0.211125</td>\n",
       "    </tr>\n",
       "    <tr>\n",
       "      <th>내점일수</th>\n",
       "      <td>0.659084</td>\n",
       "      <td>0.374147</td>\n",
       "      <td>0.270290</td>\n",
       "      <td>1.000000</td>\n",
       "      <td>0.225264</td>\n",
       "      <td>-0.010325</td>\n",
       "      <td>-0.293200</td>\n",
       "    </tr>\n",
       "    <tr>\n",
       "      <th>내점당구매건수</th>\n",
       "      <td>0.090022</td>\n",
       "      <td>0.018980</td>\n",
       "      <td>-0.063114</td>\n",
       "      <td>0.225264</td>\n",
       "      <td>1.000000</td>\n",
       "      <td>0.007659</td>\n",
       "      <td>-0.091151</td>\n",
       "    </tr>\n",
       "    <tr>\n",
       "      <th>주말방문비율</th>\n",
       "      <td>0.014396</td>\n",
       "      <td>0.022277</td>\n",
       "      <td>-0.062397</td>\n",
       "      <td>-0.010325</td>\n",
       "      <td>0.007659</td>\n",
       "      <td>1.000000</td>\n",
       "      <td>0.003372</td>\n",
       "    </tr>\n",
       "    <tr>\n",
       "      <th>구매주기</th>\n",
       "      <td>-0.212944</td>\n",
       "      <td>-0.115837</td>\n",
       "      <td>-0.211125</td>\n",
       "      <td>-0.293200</td>\n",
       "      <td>-0.091151</td>\n",
       "      <td>0.003372</td>\n",
       "      <td>1.000000</td>\n",
       "    </tr>\n",
       "  </tbody>\n",
       "</table>\n",
       "</div>"
      ],
      "text/plain": [
       "             총구매액     최대구매액      환불금액      내점일수   내점당구매건수    주말방문비율      구매주기\n",
       "총구매액     1.000000  0.700080  0.419734  0.659084  0.090022  0.014396 -0.212944\n",
       "최대구매액    0.700080  1.000000  0.410562  0.374147  0.018980  0.022277 -0.115837\n",
       "환불금액     0.419734  0.410562  1.000000  0.270290 -0.063114 -0.062397 -0.211125\n",
       "내점일수     0.659084  0.374147  0.270290  1.000000  0.225264 -0.010325 -0.293200\n",
       "내점당구매건수  0.090022  0.018980 -0.063114  0.225264  1.000000  0.007659 -0.091151\n",
       "주말방문비율   0.014396  0.022277 -0.062397 -0.010325  0.007659  1.000000  0.003372\n",
       "구매주기    -0.212944 -0.115837 -0.211125 -0.293200 -0.091151  0.003372  1.000000"
      ]
     },
     "execution_count": 9,
     "metadata": {},
     "output_type": "execute_result"
    }
   ],
   "source": [
    "x_train.corr()\n",
    "# x_train['총구매액'].corr(x_train['최대구매액']) 1:1 관계로 상관계수 출력"
   ]
  },
  {
   "cell_type": "markdown",
   "id": "2a8f2bd1",
   "metadata": {},
   "source": [
    "#### 2-6. 데이터 Slicing\n",
    "\n",
    "#### 기본적으로 데이터 Slicing에는 iloc와 loc가 사용됨. iloc는 기본적으로 index가 기준이 되는 slicing이며 loc는 label이 기준이되는 slicing임"
   ]
  },
  {
   "cell_type": "code",
   "execution_count": 10,
   "id": "bb3d8708",
   "metadata": {},
   "outputs": [
    {
     "data": {
      "text/html": [
       "<div>\n",
       "<style scoped>\n",
       "    .dataframe tbody tr th:only-of-type {\n",
       "        vertical-align: middle;\n",
       "    }\n",
       "\n",
       "    .dataframe tbody tr th {\n",
       "        vertical-align: top;\n",
       "    }\n",
       "\n",
       "    .dataframe thead th {\n",
       "        text-align: right;\n",
       "    }\n",
       "</style>\n",
       "<table border=\"1\" class=\"dataframe\">\n",
       "  <thead>\n",
       "    <tr style=\"text-align: right;\">\n",
       "      <th></th>\n",
       "      <th>최대구매액</th>\n",
       "      <th>주구매상품</th>\n",
       "    </tr>\n",
       "  </thead>\n",
       "  <tbody>\n",
       "    <tr>\n",
       "      <th>0</th>\n",
       "      <td>11264000</td>\n",
       "      <td>기타</td>\n",
       "    </tr>\n",
       "    <tr>\n",
       "      <th>1</th>\n",
       "      <td>2136000</td>\n",
       "      <td>스포츠</td>\n",
       "    </tr>\n",
       "    <tr>\n",
       "      <th>3</th>\n",
       "      <td>4935000</td>\n",
       "      <td>기타</td>\n",
       "    </tr>\n",
       "  </tbody>\n",
       "</table>\n",
       "</div>"
      ],
      "text/plain": [
       "      최대구매액 주구매상품\n",
       "0  11264000    기타\n",
       "1   2136000   스포츠\n",
       "3   4935000    기타"
      ]
     },
     "execution_count": 10,
     "metadata": {},
     "output_type": "execute_result"
    }
   ],
   "source": [
    "x_train.iloc[0] # 첫 번째 행만\n",
    "x_train.iloc[-1] # 마지막 행만\n",
    "\n",
    "x_train.iloc[:, 0] # 첫 번째 열만\n",
    "x_train.iloc[:, -1] # 마지막 열만\n",
    "\n",
    "x_train.iloc[[0, 1, 3], [2, 4]] # 2, 4번째 열에서 0, 1, 3번째 행만"
   ]
  },
  {
   "cell_type": "code",
   "execution_count": 11,
   "id": "89bcb87e",
   "metadata": {},
   "outputs": [],
   "source": [
    "# x_train.loc['행이름']\n",
    "# x_train.loc[['행이름1', '행이름2'], ['열이름1', '열이름2']]"
   ]
  },
  {
   "cell_type": "markdown",
   "id": "fa8025ba",
   "metadata": {},
   "source": [
    "### 3. 조건문, 반복문"
   ]
  },
  {
   "cell_type": "code",
   "execution_count": 12,
   "id": "7cf972dc",
   "metadata": {},
   "outputs": [
    {
     "name": "stdout",
     "output_type": "stream",
     "text": [
      "595\n"
     ]
    }
   ],
   "source": [
    "#Q. 주구매상품에서 기타의 상품 수는?\n",
    "len(x_train[x_train['주구매상품'] == '기타']) \n",
    "\n",
    "# 만약 for문을 사용한다면\n",
    "\n",
    "count = 0\n",
    "for i in x_train['주구매상품'] :\n",
    "    if(i == '기타'):\n",
    "        count += 1\n",
    "\n",
    "print(count)"
   ]
  },
  {
   "cell_type": "code",
   "execution_count": 13,
   "id": "7cb66570",
   "metadata": {},
   "outputs": [
    {
     "data": {
      "text/plain": [
       "1011"
      ]
     },
     "execution_count": 13,
     "metadata": {},
     "output_type": "execute_result"
    }
   ],
   "source": [
    "#Q. 최대구매액의 평균을 구하고 평균보다 큰 값의 개수를 구해라\n",
    "\n",
    "# 최대 : x_train['최대구매액'].max()\n",
    "# 최소 : x_train['최대구매액'].min()\n",
    "# 중간 : x_train['최대구매액'].median()\n",
    "# 평균 : x_train['최대구매액'].mean()\n",
    "# 2분위수 : x_train['최대구매액'].describe()['25%']\n",
    "len(x_train[x_train['최대구매액'] > x_train['최대구매액'].mean()])"
   ]
  },
  {
   "cell_type": "code",
   "execution_count": 14,
   "id": "b2c48e50",
   "metadata": {},
   "outputs": [
    {
     "data": {
      "text/plain": [
       "3"
      ]
     },
     "execution_count": 14,
     "metadata": {},
     "output_type": "execute_result"
    }
   ],
   "source": [
    "#Q. 최대구매액 컬럼을 Min-Max Scale로 변환한 후 0.5보다 큰 값을 가지는 레코드 수\n",
    "\n",
    "def min_max(data):\n",
    "    data_min = data.min()\n",
    "    data_max = data.max()\n",
    "    \n",
    "    scaled_data = data.apply(lambda x: (x - data_min) / (data_max - data_min))\n",
    "    \n",
    "    return scaled_data\n",
    "\n",
    "minmax_data = min_max(x_train['최대구매액'])\n",
    "len(minmax_data[minmax_data > 0.5])\n",
    "\n",
    "# 이 문제를 sklearn의 scaler를 사용해 해결해보자\n",
    "from sklearn.preprocessing import StandardScaler\n",
    "from sklearn.preprocessing import MinMaxScaler\n",
    "\n",
    "# 정규화\n",
    "standardScaler = StandardScaler()\n",
    "# 여기서 scaler에 들어가는 데이터는 리스트처럼 1차원이 아니라 데이터프레임처럼 2차원이여야 한다.\n",
    "standardScaler.fit(pd.DataFrame(x_train['최대구매액']))\n",
    "standardScaler.transform(pd.DataFrame(x_train['최대구매액']))\n",
    "\n",
    "# Minmax\n",
    "\n",
    "minMaxScaler = MinMaxScaler()\n",
    "minMaxScaler.fit(pd.DataFrame(x_train['최대구매액']))\n",
    "res = minMaxScaler.transform(pd.DataFrame(x_train['최대구매액']))\n",
    "len(res[res > 0.5])"
   ]
  },
  {
   "cell_type": "markdown",
   "id": "7a3b424d",
   "metadata": {},
   "source": [
    "### 4. 데이터 전처리"
   ]
  },
  {
   "cell_type": "markdown",
   "id": "58993de9",
   "metadata": {},
   "source": [
    "#### 4-1 데이터 split"
   ]
  },
  {
   "cell_type": "code",
   "execution_count": 15,
   "id": "ff2c59bf",
   "metadata": {},
   "outputs": [],
   "source": [
    "#Q1. x_train data를 8:2로 나눠보자\n",
    "\n",
    "def train_test_split(data, ratio):\n",
    "    train_len = int(len(data)*ratio)\n",
    "    \n",
    "    train_data = data.loc[:train_len-1, :] #여기서 -1해주는게 중요\n",
    "    test_data = data.loc[train_len : len(data), :]\n",
    "    \n",
    "    return train_data, test_data\n",
    "\n",
    "#Q2. split에 무작위성을 추가해보자.\n",
    "\n",
    "def train_test_split_random(data, ratio):\n",
    "    shuffled_idx = np.random.permutation(len(data))\n",
    "    test_size = int(len(data)*ratio)\n",
    "    \n",
    "    test_idx = shuffled_idx[:test_size]\n",
    "    train_idx = shuffled_idx[test_size:]\n",
    "    \n",
    "    test_data = data.iloc[test_idx]\n",
    "    train_data = data.iloc[train_idx]\n",
    "    \n",
    "    return test_data, train_data\n",
    "\n",
    "x1, x2 = train_test_split(x_train, 0.8)\n",
    "x1, x2 = train_test_split_random(x_train, 0.8)\n",
    "\n",
    "#위의 과정을 sklearn을 통해 할 수 있음\n",
    "from sklearn.model_selection import train_test_split\n",
    "x1, x2 = train_test_split(x_train, test_size = 0.2, random_state = 42)"
   ]
  },
  {
   "cell_type": "markdown",
   "id": "3777aafd",
   "metadata": {},
   "source": [
    "#### 4-2 결측치 제거"
   ]
  },
  {
   "cell_type": "code",
   "execution_count": 16,
   "id": "00d318ac",
   "metadata": {},
   "outputs": [
    {
     "data": {
      "text/plain": [
       "0    6860000.0\n",
       "1     300000.0\n",
       "2          NaN\n",
       "3          NaN\n",
       "4          NaN\n",
       "Name: 환불금액, dtype: float64"
      ]
     },
     "execution_count": 16,
     "metadata": {},
     "output_type": "execute_result"
    }
   ],
   "source": [
    "# 환불금액에는 보다시피 NaN 결측치 존재 이를 제거해야함.\n",
    "x_train['환불금액'].head()"
   ]
  },
  {
   "cell_type": "code",
   "execution_count": 17,
   "id": "57f992a3",
   "metadata": {},
   "outputs": [],
   "source": [
    "# 결측치 제거용 복사 데이터를 만듦\n",
    "x_train_copied = x_train.copy()\n",
    "\n",
    "# fillna를 통해 결측치 중간값, 평균으로 대체\n",
    "refund_median = x_train_copied['환불금액'].median()\n",
    "x_train_copied['환불금액'].fillna(refund_median, inplace = True)\n",
    "\n",
    "x_train_copied = x_train.copy()\n",
    "refund_mean = x_train_copied['환불금액'].mean()\n",
    "x_train_copied['환불금액'].fillna(refund_mean, inplace = True)"
   ]
  },
  {
   "cell_type": "code",
   "execution_count": 18,
   "id": "3ce1ed73",
   "metadata": {},
   "outputs": [],
   "source": [
    "# sklearn을 사용하여 결측치 제거\n",
    "from sklearn.impute import SimpleImputer\n",
    "x_train_copied = x_train.copy()\n",
    "\n",
    "imputer = SimpleImputer(strategy = 'median')\n",
    "imputer.fit(pd.DataFrame(x_train_copied['환불금액']))\n",
    "x_train_copied['환불금액'] = imputer.transform(pd.DataFrame(x_train_copied['환불금액']))\n",
    "\n",
    "x_train_copied = x_train.copy()\n",
    "imputer = SimpleImputer(strategy = 'mean')\n",
    "imputer.fit(pd.DataFrame(x_train_copied['환불금액']))\n",
    "x_train_copied['환불금액'] = imputer.transform(pd.DataFrame(x_train_copied['환불금액']))"
   ]
  },
  {
   "cell_type": "markdown",
   "id": "916a8a1e",
   "metadata": {},
   "source": [
    "### 5. 실전 문제 - 분류"
   ]
  },
  {
   "cell_type": "markdown",
   "id": "01d28bc1",
   "metadata": {},
   "source": [
    "##### Q. 남자일 확률을 custid - gender 형식으로 csv 파일로 만들어 제출"
   ]
  },
  {
   "cell_type": "code",
   "execution_count": 60,
   "id": "944e76ae",
   "metadata": {},
   "outputs": [],
   "source": [
    "import pandas as pd\n",
    "\n",
    "# 전처리 라이브러리\n",
    "from sklearn.preprocessing import LabelEncoder\n",
    "from sklearn.impute import SimpleImputer\n",
    "\n",
    "# XGboost 라이브러리\n",
    "import xgboost as xgb"
   ]
  },
  {
   "cell_type": "code",
   "execution_count": 19,
   "id": "aa373b30",
   "metadata": {},
   "outputs": [],
   "source": [
    "# x_train과 y_train을 사용하여 모델을 만든 후 x_test를 input으로 하고 y_test를\n",
    "# output으로 해서 이를 csv로 저장한 뒤 답안 제출하면됨.\n",
    "\n",
    "x_train = pd.read_csv(x_train_path, encoding='cp949')\n",
    "y_train = pd.read_csv(y_train_path, encoding='cp949')\n",
    "x_test = pd.read_csv(x_test_path, encoding='cp949')"
   ]
  },
  {
   "cell_type": "code",
   "execution_count": 21,
   "id": "f2e375ce",
   "metadata": {},
   "outputs": [],
   "source": [
    "# cust_id 삭제\n",
    "\n",
    "x_train_custid = x_train['cust_id']\n",
    "y_train_custid = y_train['cust_id']\n",
    "\n",
    "x_train = x_train.iloc[:, 1:]\n",
    "y_train = y_train.iloc[:, 1:]\n",
    "\n",
    "x_test_custid = x_test['cust_id']\n",
    "\n",
    "x_test = x_test.iloc[:, 1:]"
   ]
  },
  {
   "cell_type": "code",
   "execution_count": 22,
   "id": "5327d88c",
   "metadata": {},
   "outputs": [],
   "source": [
    "# 주구매상품과 주구매지점은 String이므로 이를 LabelEncoder 한다.\n",
    "# 문제로 주어지는 데이터는 데이터셋 크기가 크지 않으므로 \n",
    "# one-hot-encoder를 통해 차원을 늘리는 것보다는 LabelEncoder를 사용하는게 좋을듯 하다.\n",
    "\n",
    "x_train.loc[:, ['주구매상품', '주구매지점']] = x_train.loc[:, ['주구매상품', '주구매지점']].apply(LabelEncoder().fit_transform)\n",
    "x_test.loc[:, ['주구매상품', '주구매지점']] = x_test.loc[:, ['주구매상품', '주구매지점']].apply(LabelEncoder().fit_transform)"
   ]
  },
  {
   "cell_type": "code",
   "execution_count": 23,
   "id": "57484daf",
   "metadata": {},
   "outputs": [],
   "source": [
    "# 여기서 상품의 차원이 너무 많기 때문에 상품의 차원을 줄여보자\n",
    "# 주구매상품, 주구매지점, 내점일수는 서로 지역적 연관성이 있을 수 있으므로 이 세개를 이용하여 클러스터링 할 계획\n",
    "\n",
    "from sklearn.cluster import KMeans\n",
    "\n",
    "x_train_cluster = x_train.loc[:, ['주구매상품', '주구매지점', '내점일수']]\n",
    "x_test_cluster = x_test.loc[:, ['주구매상품', '주구매지점', '내점일수']]\n",
    "\n",
    "kmeans_train = KMeans(n_clusters = 3)\n",
    "kmeans_train.fit(x_train_cluster)\n",
    "\n",
    "x_train_cluster['cluster'] = kmeans_train.labels_\n",
    "\n",
    "kmeans_test = KMeans(n_clusters = 3)\n",
    "kmeans_test.fit(x_test_cluster)\n",
    "\n",
    "x_test_cluster['cluster'] = kmeans_test.labels_"
   ]
  },
  {
   "cell_type": "code",
   "execution_count": 24,
   "id": "a4d1cbb0",
   "metadata": {},
   "outputs": [],
   "source": [
    "# 환불 금액이 NaN이라는 것은 환불을 하지 않았다는 것. 따라서 NaN에 0값을 채워넣어줌.\n",
    "\n",
    "x_train.loc[:, '환불금액'] = x_train.loc[:, '환불금액'].fillna(0)\n",
    "x_test.loc[:, '환불금액'] = x_test.loc[:, '환불금액'].fillna(0)"
   ]
  },
  {
   "cell_type": "code",
   "execution_count": 25,
   "id": "2f9b73fa",
   "metadata": {},
   "outputs": [],
   "source": [
    "# 현재 주말방문비율은 0-1사이의 값을 가지고 있지만 나머지는 값이 너무 큼.\n",
    "# 따라서 나머지 데이터들에 minmaxScaler를 사용해서 정규화를 해줌.\n",
    "\n",
    "minMaxScaler = MinMaxScaler()\n",
    "minMaxScaler.fit(x_train.iloc[:, [0, 1, 2, 6, 8]])\n",
    "x_train.iloc[:, [0, 1, 2, 6, 8]] = minMaxScaler.transform(x_train.iloc[:, [0, 1, 2, 6, 8]])\n",
    "\n",
    "minMaxScaler.fit(x_test.iloc[:, [0, 1, 2, 6, 8]])\n",
    "x_test.iloc[:, [0, 1, 2, 6, 8]] = minMaxScaler.transform(x_test.iloc[:, [0, 1, 2, 6, 8]])"
   ]
  },
  {
   "cell_type": "code",
   "execution_count": 26,
   "id": "e2ac4754",
   "metadata": {},
   "outputs": [],
   "source": [
    "# MinMax처리를 한 데이터에 cluster를 추가해주고 주구매상품, 주구매지점, 내점일수 열 삭제\n",
    "x_train_copy = x_train.copy()\n",
    "x_test_copy = x_test.copy()\n",
    "\n",
    "x_train_copy = x_train_copy.drop(['주구매상품', '주구매지점', '내점일수'], axis = 1)\n",
    "x_test_copy = x_test_copy.drop(['주구매상품', '주구매지점', '내점일수'], axis = 1)\n",
    "\n",
    "x_train_copy['cluster'] = x_train_cluster['cluster']\n",
    "x_test_copy['cluster'] = x_test_cluster['cluster']"
   ]
  },
  {
   "cell_type": "code",
   "execution_count": 57,
   "id": "bd1f8bd7",
   "metadata": {},
   "outputs": [
    {
     "name": "stderr",
     "output_type": "stream",
     "text": [
      "/Users/minki/opt/anaconda3/lib/python3.8/site-packages/xgboost/sklearn.py:1146: UserWarning: The use of label encoder in XGBClassifier is deprecated and will be removed in a future release. To remove this warning, do the following: 1) Pass option use_label_encoder=False when constructing XGBClassifier object; and 2) Encode your labels (y) as integers starting with 0, i.e. 0, 1, 2, ..., [num_class - 1].\n",
      "  warnings.warn(label_encoder_deprecation_msg, UserWarning)\n",
      "/Users/minki/opt/anaconda3/lib/python3.8/site-packages/sklearn/utils/validation.py:63: DataConversionWarning: A column-vector y was passed when a 1d array was expected. Please change the shape of y to (n_samples, ), for example using ravel().\n",
      "  return f(*args, **kwargs)\n"
     ]
    },
    {
     "name": "stdout",
     "output_type": "stream",
     "text": [
      "[15:42:55] WARNING: /Users/travis/build/dmlc/xgboost/src/learner.cc:573: \n",
      "Parameters: { \"n_esimator\" } might not be used.\n",
      "\n",
      "  This may not be accurate due to some parameters are only used in language bindings but\n",
      "  passed down to XGBoost core.  Or some parameters are not used but slip through this\n",
      "  verification. Please open an issue if you find above cases.\n",
      "\n",
      "\n",
      "[15:42:55] WARNING: /Users/travis/build/dmlc/xgboost/src/learner.cc:1095: Starting in XGBoost 1.3.0, the default evaluation metric used with the objective 'binary:logistic' was changed from 'error' to 'logloss'. Explicitly set eval_metric if you'd like to restore the old behavior.\n",
      "model_roc_score : 0.8510960132825635\n"
     ]
    }
   ],
   "source": [
    "import xgboost as xgb\n",
    "\n",
    "xgb_model = xgb.XGBClassifier(n_esimator = 400, \n",
    "                              learning_rate = 0.1, \n",
    "                              max_depth = 5)\n",
    "xgb_model.fit(x_train_copy, y_train)\n",
    "\n",
    "# 모델 성능 roc_auc 점수 도출\n",
    "predict_train = pd.DataFrame(xgb_model.predict_proba(x_train_copy))\n",
    "model_roc_score = roc_auc_score(y_train, predict_train.iloc[:,1])\n",
    "print(f'model_roc_score : {model_roc_score}')\n",
    "\n",
    "# 예측\n",
    "pred = xgb_model.predict(x_test_copy)\n",
    "res = pd.DataFrame(xgb_model.predict_proba(x_test_copy))\n",
    "res = pd.concat([x_test_custid, predict.iloc[:, 1]], axis = 1)\n",
    "\n",
    "# 정답 제출\n",
    "# 저장. path에 수험번호로 저장할 것.\n",
    "res.to_csv('/Users/minki/prepare_dataq_test/res/100000.csv', index = False)"
   ]
  },
  {
   "cell_type": "markdown",
   "id": "6c6d8471",
   "metadata": {},
   "source": [
    "### 6. 실전 문제 - 예측"
   ]
  },
  {
   "cell_type": "markdown",
   "id": "df801793",
   "metadata": {},
   "source": [
    "#### Q. 부동산 가격을 예측해보자"
   ]
  },
  {
   "cell_type": "code",
   "execution_count": 69,
   "id": "c21aeca9",
   "metadata": {},
   "outputs": [],
   "source": [
    "# 데이터셋은 그냥 아무거나 가져옴\n",
    "from sklearn.datasets import load_boston\n",
    "boston = load_boston()\n",
    "data = pd.DataFrame(boston.data)\n",
    "data.columns = boston.feature_names\n",
    "data['PRICE'] = boston.target"
   ]
  },
  {
   "cell_type": "code",
   "execution_count": 80,
   "id": "b6cd8580",
   "metadata": {},
   "outputs": [],
   "source": [
    "# 데이터셋을 8:2로 train과 test 데이터셋으로 구분하기\n",
    "from sklearn.model_selection import train_test_split\n",
    "x_train, x_test, y_train, y_test = train_test_split(data.iloc[:, :-1], \n",
    "                                                    data.iloc[:, -1], \n",
    "                                                    test_size = 0.2, \n",
    "                                                    random_state = 123)\n",
    "\n",
    "# pandas dataframe으로 바꿔줌\n",
    "y_train = pd.DataFrame(y_train)\n",
    "y_test = pd.DataFrame(y_test)"
   ]
  },
  {
   "cell_type": "code",
   "execution_count": 92,
   "id": "d9642c7f",
   "metadata": {},
   "outputs": [],
   "source": [
    "# x_train데이터와 x_test데이터를 minmaxscaler를 사용해서 scale 맞춰주기\n",
    "\n",
    "from sklearn.preprocessing import StandardScaler\n",
    "from sklearn.preprocessing import MinMaxScaler\n",
    "\n",
    "minMaxScaler_train = MinMaxScaler()\n",
    "minMaxScaler_train.fit(x_train)\n",
    "x_train_scaled = minMaxScaler_train.transform(x_train)\n",
    "x_train_scaled = pd.DataFrame(x_train_scaled)\n",
    "x_train_scaled.columns = x_train.columns\n",
    "\n",
    "minMaxScaler_test = MinMaxScaler()\n",
    "minMaxScaler_test.fit(x_test)\n",
    "x_test_scaled = minMaxScaler_test.transform(x_test)\n",
    "x_test_scaled = pd.DataFrame(x_test_scaled)\n",
    "x_test_scaled.columns = x_test.columns"
   ]
  },
  {
   "cell_type": "code",
   "execution_count": 111,
   "id": "5cb166fa",
   "metadata": {},
   "outputs": [
    {
     "name": "stdout",
     "output_type": "stream",
     "text": [
      "[16:34:44] WARNING: /Users/travis/build/dmlc/xgboost/src/objective/regression_obj.cu:171: reg:linear is now deprecated in favor of reg:squarederror.\n"
     ]
    }
   ],
   "source": [
    "xgb_reg = xgb.XGBRegressor(objective ='reg:linear', \n",
    "                          colsample_bytree = 0.3, \n",
    "                          learning_rate = 0.1, \n",
    "                          max_depth = 5, alpha = 10, n_estimators = 10)\n",
    "\n",
    "xgb_reg.fit(x_train_scaled,y_train)\n",
    "res = xgb_reg.predict(x_test_scaled)\n",
    "res = pd.DataFrame(res)\n",
    "\n",
    "res.to_csv('/Users/minki/prepare_dataq_test/res/100000.csv', index = False)"
   ]
  },
  {
   "cell_type": "code",
   "execution_count": null,
   "id": "0009dd7e",
   "metadata": {},
   "outputs": [],
   "source": []
  },
  {
   "cell_type": "code",
   "execution_count": null,
   "id": "79ce3a82",
   "metadata": {},
   "outputs": [],
   "source": []
  },
  {
   "cell_type": "code",
   "execution_count": null,
   "id": "d1541a39",
   "metadata": {},
   "outputs": [],
   "source": []
  },
  {
   "cell_type": "code",
   "execution_count": null,
   "id": "44a7d15d",
   "metadata": {},
   "outputs": [],
   "source": []
  },
  {
   "cell_type": "code",
   "execution_count": null,
   "id": "28397863",
   "metadata": {},
   "outputs": [],
   "source": []
  }
 ],
 "metadata": {
  "kernelspec": {
   "display_name": "Python 3",
   "language": "python",
   "name": "python3"
  },
  "language_info": {
   "codemirror_mode": {
    "name": "ipython",
    "version": 3
   },
   "file_extension": ".py",
   "mimetype": "text/x-python",
   "name": "python",
   "nbconvert_exporter": "python",
   "pygments_lexer": "ipython3",
   "version": "3.8.8"
  }
 },
 "nbformat": 4,
 "nbformat_minor": 5
}
