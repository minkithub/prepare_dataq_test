{
 "cells": [
  {
   "cell_type": "markdown",
   "id": "97dcdbc8",
   "metadata": {},
   "source": [
    "# 빅데이터분석기사 코드 정리"
   ]
  },
  {
   "cell_type": "markdown",
   "id": "d141d464",
   "metadata": {},
   "source": [
    "### 기본 라이브러리"
   ]
  },
  {
   "cell_type": "code",
   "execution_count": 2,
   "id": "a1d79b73",
   "metadata": {},
   "outputs": [],
   "source": [
    "import pandas as pd\n",
    "import numpy as np"
   ]
  },
  {
   "cell_type": "markdown",
   "id": "5682448b",
   "metadata": {},
   "source": [
    "### 1. 데이터 삽입"
   ]
  },
  {
   "cell_type": "code",
   "execution_count": 8,
   "id": "9444ac56",
   "metadata": {},
   "outputs": [],
   "source": [
    "x_test_path = '/Users/minki/prepare_dataq_test/dataset/X_test.csv'\n",
    "x_train_path = '/Users/minki/prepare_dataq_test/dataset/X_train.csv'\n",
    "y_train_path = '/Users/minki/prepare_dataq_test/dataset/y_train.csv'\n",
    "\n",
    "x_train = pd.read_csv(x_train_path, encoding='cp949')\n",
    "x_test = pd.read_csv(x_test_path, encoding='cp949')\n",
    "y_train = pd.read_csv(y_train_path, encoding='cp949')"
   ]
  },
  {
   "cell_type": "markdown",
   "id": "8c117291",
   "metadata": {},
   "source": [
    "### 2. 데이터 구조 파악"
   ]
  },
  {
   "cell_type": "code",
   "execution_count": 23,
   "id": "df68d9c4",
   "metadata": {},
   "outputs": [
    {
     "name": "stdout",
     "output_type": "stream",
     "text": [
      "<class 'pandas.core.frame.DataFrame'>\n",
      "RangeIndex: 3500 entries, 0 to 3499\n",
      "Data columns (total 10 columns):\n",
      " #   Column   Non-Null Count  Dtype  \n",
      "---  ------   --------------  -----  \n",
      " 0   cust_id  3500 non-null   object \n",
      " 1   총구매액     3500 non-null   int64  \n",
      " 2   최대구매액    3500 non-null   int64  \n",
      " 3   환불금액     1205 non-null   float64\n",
      " 4   주구매상품    3500 non-null   object \n",
      " 5   주구매지점    3500 non-null   object \n",
      " 6   내점일수     3500 non-null   int64  \n",
      " 7   내점당구매건수  3500 non-null   float64\n",
      " 8   주말방문비율   3500 non-null   float64\n",
      " 9   구매주기     3500 non-null   int64  \n",
      "dtypes: float64(3), int64(4), object(3)\n",
      "memory usage: 273.6+ KB\n"
     ]
    }
   ],
   "source": [
    "# 데이터 개수 및 null 개수 파악\n",
    "x_train.info()"
   ]
  },
  {
   "cell_type": "code",
   "execution_count": 27,
   "id": "cea755fb",
   "metadata": {},
   "outputs": [],
   "source": [
    "# 데이터 구조 변경\n",
    "# 위에서 cust_id는 int64로 표기되어 있지만 사실은 object형\n",
    "x_train['cust_id'] = x_train['cust_id'].astype('object')\n",
    "# .astype('object')\n",
    "# .astype('float')\n",
    "# .astype('str')\n",
    "# .astype('int')"
   ]
  },
  {
   "cell_type": "code",
   "execution_count": 28,
   "id": "d42829fc",
   "metadata": {},
   "outputs": [
    {
     "data": {
      "text/html": [
       "<div>\n",
       "<style scoped>\n",
       "    .dataframe tbody tr th:only-of-type {\n",
       "        vertical-align: middle;\n",
       "    }\n",
       "\n",
       "    .dataframe tbody tr th {\n",
       "        vertical-align: top;\n",
       "    }\n",
       "\n",
       "    .dataframe thead th {\n",
       "        text-align: right;\n",
       "    }\n",
       "</style>\n",
       "<table border=\"1\" class=\"dataframe\">\n",
       "  <thead>\n",
       "    <tr style=\"text-align: right;\">\n",
       "      <th></th>\n",
       "      <th>총구매액</th>\n",
       "      <th>최대구매액</th>\n",
       "      <th>환불금액</th>\n",
       "      <th>내점일수</th>\n",
       "      <th>내점당구매건수</th>\n",
       "      <th>주말방문비율</th>\n",
       "      <th>구매주기</th>\n",
       "    </tr>\n",
       "  </thead>\n",
       "  <tbody>\n",
       "    <tr>\n",
       "      <th>count</th>\n",
       "      <td>3.500000e+03</td>\n",
       "      <td>3.500000e+03</td>\n",
       "      <td>1.205000e+03</td>\n",
       "      <td>3500.000000</td>\n",
       "      <td>3500.000000</td>\n",
       "      <td>3500.000000</td>\n",
       "      <td>3500.000000</td>\n",
       "    </tr>\n",
       "    <tr>\n",
       "      <th>mean</th>\n",
       "      <td>9.191925e+07</td>\n",
       "      <td>1.966424e+07</td>\n",
       "      <td>2.407822e+07</td>\n",
       "      <td>19.253714</td>\n",
       "      <td>2.834963</td>\n",
       "      <td>0.307246</td>\n",
       "      <td>20.958286</td>\n",
       "    </tr>\n",
       "    <tr>\n",
       "      <th>std</th>\n",
       "      <td>1.635065e+08</td>\n",
       "      <td>3.199235e+07</td>\n",
       "      <td>4.746453e+07</td>\n",
       "      <td>27.174942</td>\n",
       "      <td>1.912368</td>\n",
       "      <td>0.289752</td>\n",
       "      <td>24.748682</td>\n",
       "    </tr>\n",
       "    <tr>\n",
       "      <th>min</th>\n",
       "      <td>-5.242152e+07</td>\n",
       "      <td>-2.992000e+06</td>\n",
       "      <td>5.600000e+03</td>\n",
       "      <td>1.000000</td>\n",
       "      <td>1.000000</td>\n",
       "      <td>0.000000</td>\n",
       "      <td>0.000000</td>\n",
       "    </tr>\n",
       "    <tr>\n",
       "      <th>25%</th>\n",
       "      <td>4.747050e+06</td>\n",
       "      <td>2.875000e+06</td>\n",
       "      <td>2.259000e+06</td>\n",
       "      <td>2.000000</td>\n",
       "      <td>1.666667</td>\n",
       "      <td>0.027291</td>\n",
       "      <td>4.000000</td>\n",
       "    </tr>\n",
       "    <tr>\n",
       "      <th>50%</th>\n",
       "      <td>2.822270e+07</td>\n",
       "      <td>9.837000e+06</td>\n",
       "      <td>7.392000e+06</td>\n",
       "      <td>8.000000</td>\n",
       "      <td>2.333333</td>\n",
       "      <td>0.256410</td>\n",
       "      <td>13.000000</td>\n",
       "    </tr>\n",
       "    <tr>\n",
       "      <th>75%</th>\n",
       "      <td>1.065079e+08</td>\n",
       "      <td>2.296250e+07</td>\n",
       "      <td>2.412000e+07</td>\n",
       "      <td>25.000000</td>\n",
       "      <td>3.375000</td>\n",
       "      <td>0.448980</td>\n",
       "      <td>28.000000</td>\n",
       "    </tr>\n",
       "    <tr>\n",
       "      <th>max</th>\n",
       "      <td>2.323180e+09</td>\n",
       "      <td>7.066290e+08</td>\n",
       "      <td>5.637530e+08</td>\n",
       "      <td>285.000000</td>\n",
       "      <td>22.083333</td>\n",
       "      <td>1.000000</td>\n",
       "      <td>166.000000</td>\n",
       "    </tr>\n",
       "  </tbody>\n",
       "</table>\n",
       "</div>"
      ],
      "text/plain": [
       "               총구매액         최대구매액          환불금액         내점일수      내점당구매건수  \\\n",
       "count  3.500000e+03  3.500000e+03  1.205000e+03  3500.000000  3500.000000   \n",
       "mean   9.191925e+07  1.966424e+07  2.407822e+07    19.253714     2.834963   \n",
       "std    1.635065e+08  3.199235e+07  4.746453e+07    27.174942     1.912368   \n",
       "min   -5.242152e+07 -2.992000e+06  5.600000e+03     1.000000     1.000000   \n",
       "25%    4.747050e+06  2.875000e+06  2.259000e+06     2.000000     1.666667   \n",
       "50%    2.822270e+07  9.837000e+06  7.392000e+06     8.000000     2.333333   \n",
       "75%    1.065079e+08  2.296250e+07  2.412000e+07    25.000000     3.375000   \n",
       "max    2.323180e+09  7.066290e+08  5.637530e+08   285.000000    22.083333   \n",
       "\n",
       "            주말방문비율         구매주기  \n",
       "count  3500.000000  3500.000000  \n",
       "mean      0.307246    20.958286  \n",
       "std       0.289752    24.748682  \n",
       "min       0.000000     0.000000  \n",
       "25%       0.027291     4.000000  \n",
       "50%       0.256410    13.000000  \n",
       "75%       0.448980    28.000000  \n",
       "max       1.000000   166.000000  "
      ]
     },
     "execution_count": 28,
     "metadata": {},
     "output_type": "execute_result"
    }
   ],
   "source": [
    "# 기초통계량 파악\n",
    "# describe에서는 object형은 출력되지 않는다.(숫자가 아니여서 계산 불가)\n",
    "x_train.describe()"
   ]
  },
  {
   "cell_type": "code",
   "execution_count": 35,
   "id": "d7522074",
   "metadata": {},
   "outputs": [
    {
     "data": {
      "text/plain": [
       "악기        2\n",
       "소형가전      2\n",
       "남성 트랜디    2\n",
       "보석        3\n",
       "통신/컴퓨터    3\n",
       "Name: 주구매상품, dtype: int64"
      ]
     },
     "execution_count": 35,
     "metadata": {},
     "output_type": "execute_result"
    }
   ],
   "source": [
    "# object형의 value 개수 세기(value는 자동적으로 내림차순)\n",
    "x_train['주구매상품'].value_counts()\n",
    "x_train.loc[:, '주구매상품'].value_counts().head() # 내림차순\n",
    "x_train.loc[:, '주구매상품'].value_counts().sort_values(ascending = True).head() # 오름차순"
   ]
  },
  {
   "cell_type": "code",
   "execution_count": 32,
   "id": "86921dea",
   "metadata": {},
   "outputs": [
    {
     "data": {
      "text/html": [
       "<div>\n",
       "<style scoped>\n",
       "    .dataframe tbody tr th:only-of-type {\n",
       "        vertical-align: middle;\n",
       "    }\n",
       "\n",
       "    .dataframe tbody tr th {\n",
       "        vertical-align: top;\n",
       "    }\n",
       "\n",
       "    .dataframe thead th {\n",
       "        text-align: right;\n",
       "    }\n",
       "</style>\n",
       "<table border=\"1\" class=\"dataframe\">\n",
       "  <thead>\n",
       "    <tr style=\"text-align: right;\">\n",
       "      <th></th>\n",
       "      <th>총구매액</th>\n",
       "      <th>최대구매액</th>\n",
       "      <th>환불금액</th>\n",
       "      <th>내점일수</th>\n",
       "      <th>내점당구매건수</th>\n",
       "      <th>주말방문비율</th>\n",
       "      <th>구매주기</th>\n",
       "    </tr>\n",
       "  </thead>\n",
       "  <tbody>\n",
       "    <tr>\n",
       "      <th>총구매액</th>\n",
       "      <td>1.000000</td>\n",
       "      <td>0.700080</td>\n",
       "      <td>0.419734</td>\n",
       "      <td>0.659084</td>\n",
       "      <td>0.090022</td>\n",
       "      <td>0.014396</td>\n",
       "      <td>-0.212944</td>\n",
       "    </tr>\n",
       "    <tr>\n",
       "      <th>최대구매액</th>\n",
       "      <td>0.700080</td>\n",
       "      <td>1.000000</td>\n",
       "      <td>0.410562</td>\n",
       "      <td>0.374147</td>\n",
       "      <td>0.018980</td>\n",
       "      <td>0.022277</td>\n",
       "      <td>-0.115837</td>\n",
       "    </tr>\n",
       "    <tr>\n",
       "      <th>환불금액</th>\n",
       "      <td>0.419734</td>\n",
       "      <td>0.410562</td>\n",
       "      <td>1.000000</td>\n",
       "      <td>0.270290</td>\n",
       "      <td>-0.063114</td>\n",
       "      <td>-0.062397</td>\n",
       "      <td>-0.211125</td>\n",
       "    </tr>\n",
       "    <tr>\n",
       "      <th>내점일수</th>\n",
       "      <td>0.659084</td>\n",
       "      <td>0.374147</td>\n",
       "      <td>0.270290</td>\n",
       "      <td>1.000000</td>\n",
       "      <td>0.225264</td>\n",
       "      <td>-0.010325</td>\n",
       "      <td>-0.293200</td>\n",
       "    </tr>\n",
       "    <tr>\n",
       "      <th>내점당구매건수</th>\n",
       "      <td>0.090022</td>\n",
       "      <td>0.018980</td>\n",
       "      <td>-0.063114</td>\n",
       "      <td>0.225264</td>\n",
       "      <td>1.000000</td>\n",
       "      <td>0.007659</td>\n",
       "      <td>-0.091151</td>\n",
       "    </tr>\n",
       "    <tr>\n",
       "      <th>주말방문비율</th>\n",
       "      <td>0.014396</td>\n",
       "      <td>0.022277</td>\n",
       "      <td>-0.062397</td>\n",
       "      <td>-0.010325</td>\n",
       "      <td>0.007659</td>\n",
       "      <td>1.000000</td>\n",
       "      <td>0.003372</td>\n",
       "    </tr>\n",
       "    <tr>\n",
       "      <th>구매주기</th>\n",
       "      <td>-0.212944</td>\n",
       "      <td>-0.115837</td>\n",
       "      <td>-0.211125</td>\n",
       "      <td>-0.293200</td>\n",
       "      <td>-0.091151</td>\n",
       "      <td>0.003372</td>\n",
       "      <td>1.000000</td>\n",
       "    </tr>\n",
       "  </tbody>\n",
       "</table>\n",
       "</div>"
      ],
      "text/plain": [
       "             총구매액     최대구매액      환불금액      내점일수   내점당구매건수    주말방문비율      구매주기\n",
       "총구매액     1.000000  0.700080  0.419734  0.659084  0.090022  0.014396 -0.212944\n",
       "최대구매액    0.700080  1.000000  0.410562  0.374147  0.018980  0.022277 -0.115837\n",
       "환불금액     0.419734  0.410562  1.000000  0.270290 -0.063114 -0.062397 -0.211125\n",
       "내점일수     0.659084  0.374147  0.270290  1.000000  0.225264 -0.010325 -0.293200\n",
       "내점당구매건수  0.090022  0.018980 -0.063114  0.225264  1.000000  0.007659 -0.091151\n",
       "주말방문비율   0.014396  0.022277 -0.062397 -0.010325  0.007659  1.000000  0.003372\n",
       "구매주기    -0.212944 -0.115837 -0.211125 -0.293200 -0.091151  0.003372  1.000000"
      ]
     },
     "execution_count": 32,
     "metadata": {},
     "output_type": "execute_result"
    }
   ],
   "source": [
    "# 상관관계 조사. 마찬가지로 object형은 나오지 않는다.\n",
    "x_train.corr()\n",
    "# x_train['총구매액'].corr(x_train['최대구매액']) 1:1 관계로 상관계수 출력"
   ]
  },
  {
   "cell_type": "code",
   "execution_count": null,
   "id": "41a3f1a0",
   "metadata": {},
   "outputs": [],
   "source": []
  }
 ],
 "metadata": {
  "kernelspec": {
   "display_name": "Python 3",
   "language": "python",
   "name": "python3"
  },
  "language_info": {
   "codemirror_mode": {
    "name": "ipython",
    "version": 3
   },
   "file_extension": ".py",
   "mimetype": "text/x-python",
   "name": "python",
   "nbconvert_exporter": "python",
   "pygments_lexer": "ipython3",
   "version": "3.8.8"
  }
 },
 "nbformat": 4,
 "nbformat_minor": 5
}
